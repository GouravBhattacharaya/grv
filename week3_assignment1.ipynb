{
 "cells": [
  {
   "cell_type": "code",
   "execution_count": 5,
   "metadata": {},
   "outputs": [],
   "source": [
    "#Q1. Which keyword is used to create a function? Create a function to return a list of odd numbers in the\n",
    "#range of 1 to 25.\n",
    "# def functio is used to declare a function .\n",
    "\n",
    "def odd_num(num_of_range):\n",
    "    a=[]\n",
    "    for i in range(num_of_range):\n",
    "        if i%2!=0:\n",
    "         a.append(i)\n",
    "    return (a)\n"
   ]
  },
  {
   "cell_type": "code",
   "execution_count": 7,
   "metadata": {},
   "outputs": [
    {
     "data": {
      "text/plain": [
       "[1, 3, 5, 7, 9, 11, 13, 15, 17, 19, 21, 23]"
      ]
     },
     "execution_count": 7,
     "metadata": {},
     "output_type": "execute_result"
    }
   ],
   "source": [
    "odd_num(25)"
   ]
  },
  {
   "cell_type": "code",
   "execution_count": 10,
   "metadata": {},
   "outputs": [],
   "source": [
    "#Q2. Why *args and **kwargs is used in some functions? Create a function each for *args and **kwargs,to demonstrate their use.\n",
    "def my_func(typestr):\n",
    "    print(typestr)\n"
   ]
  },
  {
   "cell_type": "code",
   "execution_count": 12,
   "metadata": {},
   "outputs": [
    {
     "ename": "TypeError",
     "evalue": "my_func() takes 1 positional argument but 2 were given",
     "output_type": "error",
     "traceback": [
      "\u001b[0;31m---------------------------------------------------------------------------\u001b[0m",
      "\u001b[0;31mTypeError\u001b[0m                                 Traceback (most recent call last)",
      "Cell \u001b[0;32mIn[12], line 1\u001b[0m\n\u001b[0;32m----> 1\u001b[0m my_func(\u001b[39m\"\u001b[39;49m\u001b[39mram ram\u001b[39;49m\u001b[39m\"\u001b[39;49m,\u001b[39m1234\u001b[39;49m)\n",
      "\u001b[0;31mTypeError\u001b[0m: my_func() takes 1 positional argument but 2 were given"
     ]
    }
   ],
   "source": [
    "my_func(\"ram ram\",1234)"
   ]
  },
  {
   "cell_type": "code",
   "execution_count": 13,
   "metadata": {},
   "outputs": [],
   "source": [
    "# In the earlier function my_func() , the extra atgument will cause an error but if the code is written as \n",
    "def my_func1(typrstr,*args):\n",
    "    print(typrstr,*args)\n",
    "    "
   ]
  },
  {
   "cell_type": "code",
   "execution_count": 22,
   "metadata": {},
   "outputs": [
    {
     "name": "stdout",
     "output_type": "stream",
     "text": [
      "string 1234 fight\n"
     ]
    }
   ],
   "source": [
    "#because of the *agrs the function can parse multiple unknown arguments.\n",
    "my_func1(\"string\",1234,(\"fight\"))"
   ]
  },
  {
   "cell_type": "code",
   "execution_count": null,
   "metadata": {},
   "outputs": [],
   "source": [
    "# **kargs used as key arguments.thats all I understood for key value argument ."
   ]
  },
  {
   "cell_type": "code",
   "execution_count": null,
   "metadata": {},
   "outputs": [],
   "source": [
    "###Q3. What is an iterator in python? Name the method used to initialise the iterator object and the method\n",
    "#used for iteration. Use these methods to print the first five elements of the given list [2, 4, 6, 8, 10, 12, 14,\n",
    "#16, 18, 20].\n",
    "# answer: An iterator in python is the variable that holds the temporary data during iterations.\n",
    "mylist=[2,4,6,8,10,12,14,16,18,20]\n",
    "for i in mylist[0:5]:\n",
    "    print(i)"
   ]
  },
  {
   "cell_type": "code",
   "execution_count": 43,
   "metadata": {},
   "outputs": [],
   "source": [
    "#Q4. What is a generator function in python? Why yield keyword is used? Give an example of a generator\n",
    "#function.\n",
    "#ans:generator function provides output as per the written algorithm one by one ,where yield word is used to defferentiate it from normal function \n",
    "\n",
    "def table_of_five(n): #returning sum of n natural numbers \n",
    "    for i in range(n+1):\n",
    "        yield i*5"
   ]
  },
  {
   "cell_type": "code",
   "execution_count": null,
   "metadata": {},
   "outputs": [],
   "source": [
    "#Q5. Create a generator function for prime numbers less than 1000. Use the next() method to print the\n",
    "#first 20 prime numbers.\n",
    "def primenos(n):#first n prime numbers\n",
    "    j=0\n",
    "    k=iter(range(2,1000))\n",
    "    while j<n+1: #Prime number counter loop\n",
    "        l=checkprime(next(k))\n",
    "        if l==True:\n",
    "            j=j+1 #prime number counter\n",
    "        else:\n",
    "            j=j\n",
    "    yield k\n",
    "\n",
    "#check for prime number \n",
    "def checkprime(num):\n",
    "    flag=False\n",
    "    for i in range(2,num):\n",
    "        if num%i==0:\n",
    "            flag=False\n",
    "            break\n",
    "        else :\n",
    "            flag=True\n",
    "    return(flag)\n",
    "            \n",
    "        \n",
    "\n",
    "\n"
   ]
  },
  {
   "cell_type": "code",
   "execution_count": 1,
   "metadata": {},
   "outputs": [
    {
     "name": "stdout",
     "output_type": "stream",
     "text": [
      "[1, 1, 2, 3, 5, 8, 13, 21, 34, 55]\n"
     ]
    }
   ],
   "source": [
    "#Q6. Write a python program to print the first 10 Fibonacci numbers using a while loop.\n",
    "a=0\n",
    "b=1\n",
    "k=0 #counter\n",
    "fib=[]         #1,1,2,3,5\n",
    "while k<10: \n",
    "    sum=a+b\n",
    "    a=b\n",
    "    b=sum\n",
    "    fib.append(a)\n",
    "    k=k+1\n",
    "    \n",
    "\n",
    "print(fib)"
   ]
  },
  {
   "cell_type": "code",
   "execution_count": 2,
   "metadata": {},
   "outputs": [],
   "source": [
    "#Q7. Write a List Comprehension to iterate through the given string: ‘pwskills’.\n",
    "\n",
    "#Expected output: ['p', 'w', 's', 'k', 'i', 'l', 'l', 's']\n",
    "\n",
    "string =\"pwskills\"\n",
    "list=[]\n",
    "for i in string:\n",
    "    list.append(i)\n"
   ]
  },
  {
   "cell_type": "code",
   "execution_count": 12,
   "metadata": {},
   "outputs": [
    {
     "name": "stdout",
     "output_type": "stream",
     "text": [
      "The number is a palindrome!\n"
     ]
    }
   ],
   "source": [
    "#Q8. Write a python program to check whether a given number is Palindrome or not using a while loop.\n",
    "numb=int(input(\"Enter number:\"))\n",
    "temp=numb\n",
    "rev=0\n",
    "while(numb>0):\n",
    "    dig=numb%10\n",
    "    rev=rev*10+dig\n",
    "    numb=numb//10\n",
    "if(temp==rev):\n",
    "    print(\"The number is a palindrome!\")\n",
    "else:\n",
    "    print(\"The number isn't a palindrome!\")\n",
    "\n",
    "    "
   ]
  },
  {
   "cell_type": "code",
   "execution_count": null,
   "metadata": {},
   "outputs": [],
   "source": [
    "#Q9 . Write a code to print odd numbers from 1 to 100 using list comprehension\n",
    "list_num=[]\n",
    "for i in range(1,100):\n",
    "    list_num.append(i)\n",
    "\n",
    "def odd_n(n):\n",
    "    if n%2==0:\n",
    "        return False\n",
    "    else :\n",
    "        return True\n",
    "    \n",
    "odd_list=filter(odd_n,list_num)\n",
    "\n",
    "for i in odd_list:\n",
    "    print(i)\n",
    "\n",
    "\n",
    "\n",
    "\n"
   ]
  }
 ],
 "metadata": {
  "kernelspec": {
   "display_name": "Python 3",
   "language": "python",
   "name": "python3"
  },
  "language_info": {
   "codemirror_mode": {
    "name": "ipython",
    "version": 3
   },
   "file_extension": ".py",
   "mimetype": "text/x-python",
   "name": "python",
   "nbconvert_exporter": "python",
   "pygments_lexer": "ipython3",
   "version": "3.10.11"
  },
  "orig_nbformat": 4
 },
 "nbformat": 4,
 "nbformat_minor": 2
}
