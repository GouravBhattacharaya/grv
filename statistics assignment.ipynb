{
 "cells": [
  {
   "cell_type": "markdown",
   "metadata": {},
   "source": [
    "Q1. What is Statistics?\n",
    "ans : The science of collecting , organising , and analysing data"
   ]
  },
  {
   "cell_type": "markdown",
   "metadata": {},
   "source": [
    "Q2. Define the different types of statistics and give an example of when each type might be used.\n",
    "ans: the different types of statistics used are Descrptive statistis and inferential statistics\n",
    "descriptive statistics example such as average salary of person in Bangalore is 11.2 lacks per annum where as in kolkata is 6 lpa\n",
    "average salary is a descriptive data, inferential data example is a sample taken by food processing company of a random batch and rejecting or forwording on the basis of the sample taken."
   ]
  },
  {
   "cell_type": "markdown",
   "metadata": {},
   "source": [
    "Q3. What are the different types of data and how do they differ from each other? Provide an example of\n",
    "each type of data.\n",
    "ans: Data is broadly classified into qualitative and quantitative data. quantitative data can have mathematical operations , where as the qualitative data will not mathematical operation."
   ]
  },
  {
   "cell_type": "markdown",
   "metadata": {},
   "source": [
    "Q4. Categorise the following datasets with respect to quantitative and qualitative data types:\n",
    "(i) Grading in exam: A+, A, B+, B, C+, C, D, E                                    -ans .qualitative\n",
    "(ii) Colour of mangoes: yellow, green, orange, red                                -ans .qualitative\n",
    "(iii) Height data of a class: [178.9, 179, 179.5, 176, 177.2, 178.3, 175.8,...]   -ans .quantitative \n",
    "(iv) Number of mangoes exported by a farm: [500, 600, 478, 672, ...]              -ans .quantitative"
   ]
  },
  {
   "cell_type": "markdown",
   "metadata": {},
   "source": [
    "Q5. Explain the concept of levels of measurement and give an example of a variable for each level.\n",
    "ans ; the level of levels of measurement in ordinal data is the data ranked for practical purposes.\n",
    "example of level of data is the level of approval of a purchase order .\n"
   ]
  },
  {
   "cell_type": "markdown",
   "metadata": {},
   "source": [
    "Q6. Why is it important to understand the level of measurement when analyzing data? Provide an\n",
    "example to illustrate your answer.\n",
    "ans: the quantitative analyis in level of data can provide data for better understanding of the current situation , like corporate companies keep people in PI , good , very good , outstanding in the ratio od 10:40:40:10 in order to maintain the bell curve . "
   ]
  },
  {
   "cell_type": "markdown",
   "metadata": {},
   "source": [
    "Q7. How nominal data type is different from ordinal data type.\n",
    "Nominal data do have ranks , such as blood groups . religion in the category , hindu , muslim \n"
   ]
  },
  {
   "cell_type": "markdown",
   "metadata": {},
   "source": [
    "Q8. Which type of plot can be used to display data in terms of range?\n",
    "ans : a histogram\n"
   ]
  },
  {
   "cell_type": "markdown",
   "metadata": {},
   "source": [
    "Q9. Describe the difference between descriptive and inferential statistics. Give an example of each\n",
    "type of statistics and explain how they are used.\n",
    "ans: the analysis and and representation of data is descriptive data , descriptive data is the measure of the central tendency , variance .\n",
    "inferntial data is the part picture data infered from the sample space.\n",
    "\n"
   ]
  },
  {
   "cell_type": "markdown",
   "metadata": {},
   "source": [
    "Q10. What are some common measures of central tendency and variability used in statistics? Explain\n",
    "how each measure can be used to describe a dataset.\n",
    "\n",
    "ans: some common cenral tendencies : are mean and variability is the deviation from known standard value . "
   ]
  }
 ],
 "metadata": {
  "language_info": {
   "name": "python"
  },
  "orig_nbformat": 4
 },
 "nbformat": 4,
 "nbformat_minor": 2
}
