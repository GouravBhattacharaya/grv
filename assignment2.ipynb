{
 "cells": [
  {
   "attachments": {},
   "cell_type": "markdown",
   "metadata": {},
   "source": [
    "Q1. How do you comment code in Python? What are the different types of comments?\n",
    "ans:the commenting can be done by using # hash ,the types of comments are single line comment and milti line comment.\n",
    "\n",
    "Q2. What are variables in Python? How do you declare and assign values to variables?\n",
    "ans: variable are the reference to the data in memory,which can be used during coding . a variable can be assigned data by using equal to ,\n",
    "like a =3 , here a has the vale 3.\n",
    "\n",
    "Q3. How do you convert one data type to another in Python?\n",
    "ans : By using type casting one data type can be changed to another data type . ready functions are availabe in python such as int(),str(),list().etc.\n",
    "\n",
    "Q4. How do you write and execute a Python script from the command line?\n",
    "ans:first python is called in command line along with the path of the text file with python code , the text file is saved as \"name of the file\".py . this runs the code in command line .\n",
    "\n",
    "Q5. Given a list my_list = [1, 2, 3, 4, 5], write the code to slice the list and obtain the sub-list [2, 3].\n",
    "ans : the code is provided in the code section.\n",
    "\n",
    "Q6. What is a complex number in mathematics, and how is it represented in Python?\n",
    "ans : a complex number is a number which is realised in two components i.e, real component and the imaginary component \n",
    "in general maths it is written as a+ib . In python it is written as a+bj. J is used in place of iota.\n",
    "\n",
    "Q6. What is a complex number in mathematics, and how is it represented in Python?\n",
    "ans : age=25\n",
    "\n",
    "Q8. Declare a variable named price and assign the value 9.99 to it. What data type does this variable\n",
    "belong to?\n",
    "ans : ans wer provide in code section\n",
    "\n",
    "Q9. Create a variable named name and assign your full name to it as a string. How would you print the\n",
    "value of this variable?\n",
    "ans: answer in the code section .\n",
    "\n",
    "Q10. Given the string \"Hello, World!\", extract the substring \"World\".\n",
    "ans: In the code section \n",
    "\n",
    "\n",
    "Q11. Create a variable named \"is_student\" and assign it a boolean value indicating whether you are\n",
    "currently a student or not.\n",
    "\n",
    "\n"
   ]
  },
  {
   "cell_type": "code",
   "execution_count": 6,
   "metadata": {},
   "outputs": [
    {
     "name": "stdout",
     "output_type": "stream",
     "text": [
      "[2, 3]\n"
     ]
    }
   ],
   "source": [
    "# question 5 code \n",
    "my_list=[1,2,3,4,5]\n",
    "l1=my_list[1:3]\n",
    "\n"
   ]
  },
  {
   "cell_type": "code",
   "execution_count": null,
   "metadata": {},
   "outputs": [],
   "source": [
    "#answer to qustion 8\n",
    "price=9.99 \n",
    "# in belongs to float data type\n"
   ]
  },
  {
   "cell_type": "code",
   "execution_count": 7,
   "metadata": {},
   "outputs": [
    {
     "name": "stdout",
     "output_type": "stream",
     "text": [
      "Gourav Bhattacharaya\n"
     ]
    }
   ],
   "source": [
    "#answer to qustion 9\n",
    "name=\"Gourav Bhattacharaya\" # assgned anme my name \n",
    "#the function for print name\n",
    "print(name)"
   ]
  },
  {
   "cell_type": "code",
   "execution_count": 10,
   "metadata": {},
   "outputs": [
    {
     "name": "stdout",
     "output_type": "stream",
     "text": [
      "World\n"
     ]
    }
   ],
   "source": [
    "#answer to question 10\n",
    "string=\"Hello, World\"\n",
    "s1=string[7:12]\n",
    "print(s1)"
   ]
  },
  {
   "cell_type": "code",
   "execution_count": null,
   "metadata": {},
   "outputs": [],
   "source": [
    "#answer to question 11\n",
    "is_student=True\n"
   ]
  }
 ],
 "metadata": {
  "kernelspec": {
   "display_name": "Python 3",
   "language": "python",
   "name": "python3"
  },
  "language_info": {
   "codemirror_mode": {
    "name": "ipython",
    "version": 3
   },
   "file_extension": ".py",
   "mimetype": "text/x-python",
   "name": "python",
   "nbconvert_exporter": "python",
   "pygments_lexer": "ipython3",
   "version": "3.10.11"
  },
  "orig_nbformat": 4
 },
 "nbformat": 4,
 "nbformat_minor": 2
}
